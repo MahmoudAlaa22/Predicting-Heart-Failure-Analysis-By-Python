{
 "cells": [
  {
   "cell_type": "markdown",
   "id": "e1539103",
   "metadata": {
    "papermill": {
     "duration": 0.017739,
     "end_time": "2024-09-01T20:21:48.407656",
     "exception": false,
     "start_time": "2024-09-01T20:21:48.389917",
     "status": "completed"
    },
    "tags": []
   },
   "source": [
    "# Heart Failure Prediction\n",
    "\n",
    "In this notebook, we aim to predict heart failure using a dataset containing various clinical features. Heart disease is one of the leading causes of death worldwide, and early prediction can help in taking preventive measures. We will explore the dataset, preprocess it, build a machine learning model, and evaluate its performance.\n"
   ]
  },
  {
   "cell_type": "markdown",
   "id": "0c0cea2b",
   "metadata": {
    "papermill": {
     "duration": 0.01436,
     "end_time": "2024-09-01T20:21:48.436193",
     "exception": false,
     "start_time": "2024-09-01T20:21:48.421833",
     "status": "completed"
    },
    "tags": []
   },
   "source": [
    "\n",
    "<center>\n",
    "<img src=\"https://storage.googleapis.com/kaggle-datasets-images/1582403/2603715/fc66626bcce9dec0f401f3f69c2ab2d1/dataset-cover.jpg?t=2021-09-10-18-13-42\" alt=\"error\" width=\"1000\" height=\"600\"></center>\n"
   ]
  },
  {
   "cell_type": "markdown",
   "id": "0cea6c52",
   "metadata": {
    "papermill": {
     "duration": 0.013728,
     "end_time": "2024-09-01T20:21:48.465040",
     "exception": false,
     "start_time": "2024-09-01T20:21:48.451312",
     "status": "completed"
    },
    "tags": []
   },
   "source": [
    "## Attribute Information\n",
    "\n",
    "- **👤 Age:** Age of the patient [years]\n",
    "\n",
    "- **🔘 Sex:** Sex of the patient [M: Male, F: Female]\n",
    "\n",
    "- **💓 ChestPainType:** Type of chest pain  \n",
    "  - TA: Typical Angina  \n",
    "  - ATA: Atypical Angina  \n",
    "  - NAP: Non-Anginal Pain  \n",
    "  - ASY: Asymptomatic\n",
    "\n",
    "- **💉 RestingBP:** Resting blood pressure [mm Hg]\n",
    "\n",
    "- **🩺 Cholesterol:** Serum cholesterol level [mg/dl]\n",
    "\n",
    "- **🍬 FastingBS:** Fasting blood sugar  \n",
    "  - 1: If FastingBS > 120 mg/dl  \n",
    "  - 0: Otherwise\n",
    "\n",
    "- **📉 RestingECG:** Resting electrocardiogram results  \n",
    "  - Normal: Normal  \n",
    "  - ST: ST-T wave abnormality  \n",
    "  - LVH: Left ventricular hypertrophy by Estes' criteria\n",
    "\n",
    "- **❤️‍🔥 MaxHR:** Maximum heart rate achieved [Numeric value between 60 and 202]\n",
    "\n",
    "- **🚴‍♂️ ExerciseAngina:** Exercise-induced angina  \n",
    "  - Y: Yes  \n",
    "  - N: No\n",
    "\n",
    "- **📏 Oldpeak:** ST depression value [Numeric value measured in depression]\n",
    "\n",
    "- **📈 ST_Slope:** Slope of the peak exercise ST segment  \n",
    "  - Up: Upsloping  \n",
    "  - Flat: Flat  \n",
    "  - Down: Downsloping\n",
    "\n",
    "- **🫀 HeartDisease:** Output class  \n",
    "  - 1: Heart disease  \n",
    "  - 0: Normal\n"
   ]
  },
  {
   "cell_type": "markdown",
   "id": "027bfa2b",
   "metadata": {
    "papermill": {
     "duration": 0.013563,
     "end_time": "2024-09-01T20:21:48.492590",
     "exception": false,
     "start_time": "2024-09-01T20:21:48.479027",
     "status": "completed"
    },
    "tags": []
   },
   "source": [
    "## Import Libraries"
   ]
  },
  {
   "cell_type": "code",
   "execution_count": 2,
   "id": "240b453e",
   "metadata": {
    "execution": {
     "iopub.execute_input": "2024-09-01T20:21:48.523501Z",
     "iopub.status.busy": "2024-09-01T20:21:48.523042Z",
     "iopub.status.idle": "2024-09-01T20:21:49.015886Z",
     "shell.execute_reply": "2024-09-01T20:21:49.014434Z"
    },
    "papermill": {
     "duration": 0.51207,
     "end_time": "2024-09-01T20:21:49.018988",
     "exception": false,
     "start_time": "2024-09-01T20:21:48.506918",
     "status": "completed"
    },
    "tags": []
   },
   "outputs": [],
   "source": [
    "import numpy as np # linear algebra\n",
    "import pandas as pd # data processing, CSV file I/O (e.g. pd.read_csv)"
   ]
  },
  {
   "cell_type": "markdown",
   "id": "697876ee",
   "metadata": {
    "papermill": {
     "duration": 0.013843,
     "end_time": "2024-09-01T20:21:49.047962",
     "exception": false,
     "start_time": "2024-09-01T20:21:49.034119",
     "status": "completed"
    },
    "tags": []
   },
   "source": [
    "## Read Data📚"
   ]
  },
  {
   "cell_type": "code",
   "execution_count": 3,
   "id": "cb1494d8",
   "metadata": {
    "execution": {
     "iopub.execute_input": "2024-09-01T20:21:49.078076Z",
     "iopub.status.busy": "2024-09-01T20:21:49.077470Z",
     "iopub.status.idle": "2024-09-01T20:21:49.108580Z",
     "shell.execute_reply": "2024-09-01T20:21:49.107184Z"
    },
    "papermill": {
     "duration": 0.049599,
     "end_time": "2024-09-01T20:21:49.111610",
     "exception": false,
     "start_time": "2024-09-01T20:21:49.062011",
     "status": "completed"
    },
    "tags": []
   },
   "outputs": [
    {
     "name": "stderr",
     "output_type": "stream",
     "text": [
      "<>:1: SyntaxWarning: invalid escape sequence '\\P'\n",
      "<>:1: SyntaxWarning: invalid escape sequence '\\P'\n",
      "C:\\Users\\DEVS\\AppData\\Local\\Temp\\ipykernel_22628\\2684668593.py:1: SyntaxWarning: invalid escape sequence '\\P'\n",
      "  df=pd.read_csv(\"D:\\Projects\\predicting-heart-failure\\heart.csv\")\n"
     ]
    }
   ],
   "source": [
    "df=pd.read_csv(\"D:\\Projects\\predicting-heart-failure\\heart.csv\")"
   ]
  },
  {
   "cell_type": "markdown",
   "id": "b1e490a0",
   "metadata": {
    "papermill": {
     "duration": 0.013746,
     "end_time": "2024-09-01T20:21:49.139743",
     "exception": false,
     "start_time": "2024-09-01T20:21:49.125997",
     "status": "completed"
    },
    "tags": []
   },
   "source": [
    "**Show data sample**"
   ]
  },
  {
   "cell_type": "code",
   "execution_count": 3,
   "id": "0931db81",
   "metadata": {
    "execution": {
     "iopub.execute_input": "2024-09-01T20:21:49.170768Z",
     "iopub.status.busy": "2024-09-01T20:21:49.169586Z",
     "iopub.status.idle": "2024-09-01T20:21:49.198803Z",
     "shell.execute_reply": "2024-09-01T20:21:49.197611Z"
    },
    "papermill": {
     "duration": 0.047863,
     "end_time": "2024-09-01T20:21:49.201759",
     "exception": false,
     "start_time": "2024-09-01T20:21:49.153896",
     "status": "completed"
    },
    "tags": []
   },
   "outputs": [
    {
     "data": {
      "text/html": [
       "<div>\n",
       "<style scoped>\n",
       "    .dataframe tbody tr th:only-of-type {\n",
       "        vertical-align: middle;\n",
       "    }\n",
       "\n",
       "    .dataframe tbody tr th {\n",
       "        vertical-align: top;\n",
       "    }\n",
       "\n",
       "    .dataframe thead th {\n",
       "        text-align: right;\n",
       "    }\n",
       "</style>\n",
       "<table border=\"1\" class=\"dataframe\">\n",
       "  <thead>\n",
       "    <tr style=\"text-align: right;\">\n",
       "      <th></th>\n",
       "      <th>Age</th>\n",
       "      <th>Sex</th>\n",
       "      <th>ChestPainType</th>\n",
       "      <th>RestingBP</th>\n",
       "      <th>Cholesterol</th>\n",
       "      <th>FastingBS</th>\n",
       "      <th>RestingECG</th>\n",
       "      <th>MaxHR</th>\n",
       "      <th>ExerciseAngina</th>\n",
       "      <th>Oldpeak</th>\n",
       "      <th>ST_Slope</th>\n",
       "      <th>HeartDisease</th>\n",
       "    </tr>\n",
       "  </thead>\n",
       "  <tbody>\n",
       "    <tr>\n",
       "      <th>0</th>\n",
       "      <td>40</td>\n",
       "      <td>M</td>\n",
       "      <td>ATA</td>\n",
       "      <td>140</td>\n",
       "      <td>289</td>\n",
       "      <td>0</td>\n",
       "      <td>Normal</td>\n",
       "      <td>172</td>\n",
       "      <td>N</td>\n",
       "      <td>0.0</td>\n",
       "      <td>Up</td>\n",
       "      <td>0</td>\n",
       "    </tr>\n",
       "    <tr>\n",
       "      <th>1</th>\n",
       "      <td>49</td>\n",
       "      <td>F</td>\n",
       "      <td>NAP</td>\n",
       "      <td>160</td>\n",
       "      <td>180</td>\n",
       "      <td>0</td>\n",
       "      <td>Normal</td>\n",
       "      <td>156</td>\n",
       "      <td>N</td>\n",
       "      <td>1.0</td>\n",
       "      <td>Flat</td>\n",
       "      <td>1</td>\n",
       "    </tr>\n",
       "    <tr>\n",
       "      <th>2</th>\n",
       "      <td>37</td>\n",
       "      <td>M</td>\n",
       "      <td>ATA</td>\n",
       "      <td>130</td>\n",
       "      <td>283</td>\n",
       "      <td>0</td>\n",
       "      <td>ST</td>\n",
       "      <td>98</td>\n",
       "      <td>N</td>\n",
       "      <td>0.0</td>\n",
       "      <td>Up</td>\n",
       "      <td>0</td>\n",
       "    </tr>\n",
       "    <tr>\n",
       "      <th>3</th>\n",
       "      <td>48</td>\n",
       "      <td>F</td>\n",
       "      <td>ASY</td>\n",
       "      <td>138</td>\n",
       "      <td>214</td>\n",
       "      <td>0</td>\n",
       "      <td>Normal</td>\n",
       "      <td>108</td>\n",
       "      <td>Y</td>\n",
       "      <td>1.5</td>\n",
       "      <td>Flat</td>\n",
       "      <td>1</td>\n",
       "    </tr>\n",
       "    <tr>\n",
       "      <th>4</th>\n",
       "      <td>54</td>\n",
       "      <td>M</td>\n",
       "      <td>NAP</td>\n",
       "      <td>150</td>\n",
       "      <td>195</td>\n",
       "      <td>0</td>\n",
       "      <td>Normal</td>\n",
       "      <td>122</td>\n",
       "      <td>N</td>\n",
       "      <td>0.0</td>\n",
       "      <td>Up</td>\n",
       "      <td>0</td>\n",
       "    </tr>\n",
       "  </tbody>\n",
       "</table>\n",
       "</div>"
      ],
      "text/plain": [
       "   Age Sex ChestPainType  RestingBP  Cholesterol  FastingBS RestingECG  MaxHR  \\\n",
       "0   40   M           ATA        140          289          0     Normal    172   \n",
       "1   49   F           NAP        160          180          0     Normal    156   \n",
       "2   37   M           ATA        130          283          0         ST     98   \n",
       "3   48   F           ASY        138          214          0     Normal    108   \n",
       "4   54   M           NAP        150          195          0     Normal    122   \n",
       "\n",
       "  ExerciseAngina  Oldpeak ST_Slope  HeartDisease  \n",
       "0              N      0.0       Up             0  \n",
       "1              N      1.0     Flat             1  \n",
       "2              N      0.0       Up             0  \n",
       "3              Y      1.5     Flat             1  \n",
       "4              N      0.0       Up             0  "
      ]
     },
     "execution_count": 3,
     "metadata": {},
     "output_type": "execute_result"
    }
   ],
   "source": [
    "df.head() #show the first 5 rows"
   ]
  },
  {
   "cell_type": "code",
   "execution_count": 4,
   "id": "47b6dc3d",
   "metadata": {
    "execution": {
     "iopub.execute_input": "2024-09-01T20:21:49.233544Z",
     "iopub.status.busy": "2024-09-01T20:21:49.233087Z",
     "iopub.status.idle": "2024-09-01T20:21:49.251652Z",
     "shell.execute_reply": "2024-09-01T20:21:49.250402Z"
    },
    "papermill": {
     "duration": 0.037709,
     "end_time": "2024-09-01T20:21:49.254414",
     "exception": false,
     "start_time": "2024-09-01T20:21:49.216705",
     "status": "completed"
    },
    "tags": []
   },
   "outputs": [
    {
     "data": {
      "text/html": [
       "<div>\n",
       "<style scoped>\n",
       "    .dataframe tbody tr th:only-of-type {\n",
       "        vertical-align: middle;\n",
       "    }\n",
       "\n",
       "    .dataframe tbody tr th {\n",
       "        vertical-align: top;\n",
       "    }\n",
       "\n",
       "    .dataframe thead th {\n",
       "        text-align: right;\n",
       "    }\n",
       "</style>\n",
       "<table border=\"1\" class=\"dataframe\">\n",
       "  <thead>\n",
       "    <tr style=\"text-align: right;\">\n",
       "      <th></th>\n",
       "      <th>Age</th>\n",
       "      <th>Sex</th>\n",
       "      <th>ChestPainType</th>\n",
       "      <th>RestingBP</th>\n",
       "      <th>Cholesterol</th>\n",
       "      <th>FastingBS</th>\n",
       "      <th>RestingECG</th>\n",
       "      <th>MaxHR</th>\n",
       "      <th>ExerciseAngina</th>\n",
       "      <th>Oldpeak</th>\n",
       "      <th>ST_Slope</th>\n",
       "      <th>HeartDisease</th>\n",
       "    </tr>\n",
       "  </thead>\n",
       "  <tbody>\n",
       "    <tr>\n",
       "      <th>913</th>\n",
       "      <td>45</td>\n",
       "      <td>M</td>\n",
       "      <td>TA</td>\n",
       "      <td>110</td>\n",
       "      <td>264</td>\n",
       "      <td>0</td>\n",
       "      <td>Normal</td>\n",
       "      <td>132</td>\n",
       "      <td>N</td>\n",
       "      <td>1.2</td>\n",
       "      <td>Flat</td>\n",
       "      <td>1</td>\n",
       "    </tr>\n",
       "    <tr>\n",
       "      <th>914</th>\n",
       "      <td>68</td>\n",
       "      <td>M</td>\n",
       "      <td>ASY</td>\n",
       "      <td>144</td>\n",
       "      <td>193</td>\n",
       "      <td>1</td>\n",
       "      <td>Normal</td>\n",
       "      <td>141</td>\n",
       "      <td>N</td>\n",
       "      <td>3.4</td>\n",
       "      <td>Flat</td>\n",
       "      <td>1</td>\n",
       "    </tr>\n",
       "    <tr>\n",
       "      <th>915</th>\n",
       "      <td>57</td>\n",
       "      <td>M</td>\n",
       "      <td>ASY</td>\n",
       "      <td>130</td>\n",
       "      <td>131</td>\n",
       "      <td>0</td>\n",
       "      <td>Normal</td>\n",
       "      <td>115</td>\n",
       "      <td>Y</td>\n",
       "      <td>1.2</td>\n",
       "      <td>Flat</td>\n",
       "      <td>1</td>\n",
       "    </tr>\n",
       "    <tr>\n",
       "      <th>916</th>\n",
       "      <td>57</td>\n",
       "      <td>F</td>\n",
       "      <td>ATA</td>\n",
       "      <td>130</td>\n",
       "      <td>236</td>\n",
       "      <td>0</td>\n",
       "      <td>LVH</td>\n",
       "      <td>174</td>\n",
       "      <td>N</td>\n",
       "      <td>0.0</td>\n",
       "      <td>Flat</td>\n",
       "      <td>1</td>\n",
       "    </tr>\n",
       "    <tr>\n",
       "      <th>917</th>\n",
       "      <td>38</td>\n",
       "      <td>M</td>\n",
       "      <td>NAP</td>\n",
       "      <td>138</td>\n",
       "      <td>175</td>\n",
       "      <td>0</td>\n",
       "      <td>Normal</td>\n",
       "      <td>173</td>\n",
       "      <td>N</td>\n",
       "      <td>0.0</td>\n",
       "      <td>Up</td>\n",
       "      <td>0</td>\n",
       "    </tr>\n",
       "  </tbody>\n",
       "</table>\n",
       "</div>"
      ],
      "text/plain": [
       "     Age Sex ChestPainType  RestingBP  Cholesterol  FastingBS RestingECG  \\\n",
       "913   45   M            TA        110          264          0     Normal   \n",
       "914   68   M           ASY        144          193          1     Normal   \n",
       "915   57   M           ASY        130          131          0     Normal   \n",
       "916   57   F           ATA        130          236          0        LVH   \n",
       "917   38   M           NAP        138          175          0     Normal   \n",
       "\n",
       "     MaxHR ExerciseAngina  Oldpeak ST_Slope  HeartDisease  \n",
       "913    132              N      1.2     Flat             1  \n",
       "914    141              N      3.4     Flat             1  \n",
       "915    115              Y      1.2     Flat             1  \n",
       "916    174              N      0.0     Flat             1  \n",
       "917    173              N      0.0       Up             0  "
      ]
     },
     "execution_count": 4,
     "metadata": {},
     "output_type": "execute_result"
    }
   ],
   "source": [
    "df.tail() #show the last 5 rows"
   ]
  },
  {
   "cell_type": "code",
   "execution_count": 5,
   "id": "08f0ef80",
   "metadata": {
    "execution": {
     "iopub.execute_input": "2024-09-01T20:21:49.285901Z",
     "iopub.status.busy": "2024-09-01T20:21:49.285443Z",
     "iopub.status.idle": "2024-09-01T20:21:49.312013Z",
     "shell.execute_reply": "2024-09-01T20:21:49.310678Z"
    },
    "papermill": {
     "duration": 0.045718,
     "end_time": "2024-09-01T20:21:49.315102",
     "exception": false,
     "start_time": "2024-09-01T20:21:49.269384",
     "status": "completed"
    },
    "tags": []
   },
   "outputs": [
    {
     "name": "stdout",
     "output_type": "stream",
     "text": [
      "<class 'pandas.core.frame.DataFrame'>\n",
      "RangeIndex: 918 entries, 0 to 917\n",
      "Data columns (total 12 columns):\n",
      " #   Column          Non-Null Count  Dtype  \n",
      "---  ------          --------------  -----  \n",
      " 0   Age             918 non-null    int64  \n",
      " 1   Sex             918 non-null    object \n",
      " 2   ChestPainType   918 non-null    object \n",
      " 3   RestingBP       918 non-null    int64  \n",
      " 4   Cholesterol     918 non-null    int64  \n",
      " 5   FastingBS       918 non-null    int64  \n",
      " 6   RestingECG      918 non-null    object \n",
      " 7   MaxHR           918 non-null    int64  \n",
      " 8   ExerciseAngina  918 non-null    object \n",
      " 9   Oldpeak         918 non-null    float64\n",
      " 10  ST_Slope        918 non-null    object \n",
      " 11  HeartDisease    918 non-null    int64  \n",
      "dtypes: float64(1), int64(6), object(5)\n",
      "memory usage: 86.2+ KB\n"
     ]
    }
   ],
   "source": [
    "df.info()"
   ]
  },
  {
   "cell_type": "markdown",
   "id": "ebe2b74d",
   "metadata": {
    "papermill": {
     "duration": 0.015206,
     "end_time": "2024-09-01T20:21:49.345158",
     "exception": false,
     "start_time": "2024-09-01T20:21:49.329952",
     "status": "completed"
    },
    "tags": []
   },
   "source": [
    "## Statistical Summary"
   ]
  },
  {
   "cell_type": "code",
   "execution_count": 6,
   "id": "1e725535",
   "metadata": {
    "execution": {
     "iopub.execute_input": "2024-09-01T20:21:49.379872Z",
     "iopub.status.busy": "2024-09-01T20:21:49.378542Z",
     "iopub.status.idle": "2024-09-01T20:21:49.432415Z",
     "shell.execute_reply": "2024-09-01T20:21:49.431205Z"
    },
    "papermill": {
     "duration": 0.07486,
     "end_time": "2024-09-01T20:21:49.435049",
     "exception": false,
     "start_time": "2024-09-01T20:21:49.360189",
     "status": "completed"
    },
    "tags": []
   },
   "outputs": [
    {
     "data": {
      "text/html": [
       "<div>\n",
       "<style scoped>\n",
       "    .dataframe tbody tr th:only-of-type {\n",
       "        vertical-align: middle;\n",
       "    }\n",
       "\n",
       "    .dataframe tbody tr th {\n",
       "        vertical-align: top;\n",
       "    }\n",
       "\n",
       "    .dataframe thead th {\n",
       "        text-align: right;\n",
       "    }\n",
       "</style>\n",
       "<table border=\"1\" class=\"dataframe\">\n",
       "  <thead>\n",
       "    <tr style=\"text-align: right;\">\n",
       "      <th></th>\n",
       "      <th>Age</th>\n",
       "      <th>Sex</th>\n",
       "      <th>ChestPainType</th>\n",
       "      <th>RestingBP</th>\n",
       "      <th>Cholesterol</th>\n",
       "      <th>FastingBS</th>\n",
       "      <th>RestingECG</th>\n",
       "      <th>MaxHR</th>\n",
       "      <th>ExerciseAngina</th>\n",
       "      <th>Oldpeak</th>\n",
       "      <th>ST_Slope</th>\n",
       "      <th>HeartDisease</th>\n",
       "    </tr>\n",
       "  </thead>\n",
       "  <tbody>\n",
       "    <tr>\n",
       "      <th>count</th>\n",
       "      <td>918.000000</td>\n",
       "      <td>918</td>\n",
       "      <td>918</td>\n",
       "      <td>918.000000</td>\n",
       "      <td>918.000000</td>\n",
       "      <td>918.000000</td>\n",
       "      <td>918</td>\n",
       "      <td>918.000000</td>\n",
       "      <td>918</td>\n",
       "      <td>918.000000</td>\n",
       "      <td>918</td>\n",
       "      <td>918.000000</td>\n",
       "    </tr>\n",
       "    <tr>\n",
       "      <th>unique</th>\n",
       "      <td>NaN</td>\n",
       "      <td>2</td>\n",
       "      <td>4</td>\n",
       "      <td>NaN</td>\n",
       "      <td>NaN</td>\n",
       "      <td>NaN</td>\n",
       "      <td>3</td>\n",
       "      <td>NaN</td>\n",
       "      <td>2</td>\n",
       "      <td>NaN</td>\n",
       "      <td>3</td>\n",
       "      <td>NaN</td>\n",
       "    </tr>\n",
       "    <tr>\n",
       "      <th>top</th>\n",
       "      <td>NaN</td>\n",
       "      <td>M</td>\n",
       "      <td>ASY</td>\n",
       "      <td>NaN</td>\n",
       "      <td>NaN</td>\n",
       "      <td>NaN</td>\n",
       "      <td>Normal</td>\n",
       "      <td>NaN</td>\n",
       "      <td>N</td>\n",
       "      <td>NaN</td>\n",
       "      <td>Flat</td>\n",
       "      <td>NaN</td>\n",
       "    </tr>\n",
       "    <tr>\n",
       "      <th>freq</th>\n",
       "      <td>NaN</td>\n",
       "      <td>725</td>\n",
       "      <td>496</td>\n",
       "      <td>NaN</td>\n",
       "      <td>NaN</td>\n",
       "      <td>NaN</td>\n",
       "      <td>552</td>\n",
       "      <td>NaN</td>\n",
       "      <td>547</td>\n",
       "      <td>NaN</td>\n",
       "      <td>460</td>\n",
       "      <td>NaN</td>\n",
       "    </tr>\n",
       "    <tr>\n",
       "      <th>mean</th>\n",
       "      <td>53.510893</td>\n",
       "      <td>NaN</td>\n",
       "      <td>NaN</td>\n",
       "      <td>132.396514</td>\n",
       "      <td>198.799564</td>\n",
       "      <td>0.233115</td>\n",
       "      <td>NaN</td>\n",
       "      <td>136.809368</td>\n",
       "      <td>NaN</td>\n",
       "      <td>0.887364</td>\n",
       "      <td>NaN</td>\n",
       "      <td>0.553377</td>\n",
       "    </tr>\n",
       "    <tr>\n",
       "      <th>std</th>\n",
       "      <td>9.432617</td>\n",
       "      <td>NaN</td>\n",
       "      <td>NaN</td>\n",
       "      <td>18.514154</td>\n",
       "      <td>109.384145</td>\n",
       "      <td>0.423046</td>\n",
       "      <td>NaN</td>\n",
       "      <td>25.460334</td>\n",
       "      <td>NaN</td>\n",
       "      <td>1.066570</td>\n",
       "      <td>NaN</td>\n",
       "      <td>0.497414</td>\n",
       "    </tr>\n",
       "    <tr>\n",
       "      <th>min</th>\n",
       "      <td>28.000000</td>\n",
       "      <td>NaN</td>\n",
       "      <td>NaN</td>\n",
       "      <td>0.000000</td>\n",
       "      <td>0.000000</td>\n",
       "      <td>0.000000</td>\n",
       "      <td>NaN</td>\n",
       "      <td>60.000000</td>\n",
       "      <td>NaN</td>\n",
       "      <td>-2.600000</td>\n",
       "      <td>NaN</td>\n",
       "      <td>0.000000</td>\n",
       "    </tr>\n",
       "    <tr>\n",
       "      <th>25%</th>\n",
       "      <td>47.000000</td>\n",
       "      <td>NaN</td>\n",
       "      <td>NaN</td>\n",
       "      <td>120.000000</td>\n",
       "      <td>173.250000</td>\n",
       "      <td>0.000000</td>\n",
       "      <td>NaN</td>\n",
       "      <td>120.000000</td>\n",
       "      <td>NaN</td>\n",
       "      <td>0.000000</td>\n",
       "      <td>NaN</td>\n",
       "      <td>0.000000</td>\n",
       "    </tr>\n",
       "    <tr>\n",
       "      <th>50%</th>\n",
       "      <td>54.000000</td>\n",
       "      <td>NaN</td>\n",
       "      <td>NaN</td>\n",
       "      <td>130.000000</td>\n",
       "      <td>223.000000</td>\n",
       "      <td>0.000000</td>\n",
       "      <td>NaN</td>\n",
       "      <td>138.000000</td>\n",
       "      <td>NaN</td>\n",
       "      <td>0.600000</td>\n",
       "      <td>NaN</td>\n",
       "      <td>1.000000</td>\n",
       "    </tr>\n",
       "    <tr>\n",
       "      <th>75%</th>\n",
       "      <td>60.000000</td>\n",
       "      <td>NaN</td>\n",
       "      <td>NaN</td>\n",
       "      <td>140.000000</td>\n",
       "      <td>267.000000</td>\n",
       "      <td>0.000000</td>\n",
       "      <td>NaN</td>\n",
       "      <td>156.000000</td>\n",
       "      <td>NaN</td>\n",
       "      <td>1.500000</td>\n",
       "      <td>NaN</td>\n",
       "      <td>1.000000</td>\n",
       "    </tr>\n",
       "    <tr>\n",
       "      <th>max</th>\n",
       "      <td>77.000000</td>\n",
       "      <td>NaN</td>\n",
       "      <td>NaN</td>\n",
       "      <td>200.000000</td>\n",
       "      <td>603.000000</td>\n",
       "      <td>1.000000</td>\n",
       "      <td>NaN</td>\n",
       "      <td>202.000000</td>\n",
       "      <td>NaN</td>\n",
       "      <td>6.200000</td>\n",
       "      <td>NaN</td>\n",
       "      <td>1.000000</td>\n",
       "    </tr>\n",
       "  </tbody>\n",
       "</table>\n",
       "</div>"
      ],
      "text/plain": [
       "               Age  Sex ChestPainType   RestingBP  Cholesterol   FastingBS  \\\n",
       "count   918.000000  918           918  918.000000   918.000000  918.000000   \n",
       "unique         NaN    2             4         NaN          NaN         NaN   \n",
       "top            NaN    M           ASY         NaN          NaN         NaN   \n",
       "freq           NaN  725           496         NaN          NaN         NaN   \n",
       "mean     53.510893  NaN           NaN  132.396514   198.799564    0.233115   \n",
       "std       9.432617  NaN           NaN   18.514154   109.384145    0.423046   \n",
       "min      28.000000  NaN           NaN    0.000000     0.000000    0.000000   \n",
       "25%      47.000000  NaN           NaN  120.000000   173.250000    0.000000   \n",
       "50%      54.000000  NaN           NaN  130.000000   223.000000    0.000000   \n",
       "75%      60.000000  NaN           NaN  140.000000   267.000000    0.000000   \n",
       "max      77.000000  NaN           NaN  200.000000   603.000000    1.000000   \n",
       "\n",
       "       RestingECG       MaxHR ExerciseAngina     Oldpeak ST_Slope  \\\n",
       "count         918  918.000000            918  918.000000      918   \n",
       "unique          3         NaN              2         NaN        3   \n",
       "top        Normal         NaN              N         NaN     Flat   \n",
       "freq          552         NaN            547         NaN      460   \n",
       "mean          NaN  136.809368            NaN    0.887364      NaN   \n",
       "std           NaN   25.460334            NaN    1.066570      NaN   \n",
       "min           NaN   60.000000            NaN   -2.600000      NaN   \n",
       "25%           NaN  120.000000            NaN    0.000000      NaN   \n",
       "50%           NaN  138.000000            NaN    0.600000      NaN   \n",
       "75%           NaN  156.000000            NaN    1.500000      NaN   \n",
       "max           NaN  202.000000            NaN    6.200000      NaN   \n",
       "\n",
       "        HeartDisease  \n",
       "count     918.000000  \n",
       "unique           NaN  \n",
       "top              NaN  \n",
       "freq             NaN  \n",
       "mean        0.553377  \n",
       "std         0.497414  \n",
       "min         0.000000  \n",
       "25%         0.000000  \n",
       "50%         1.000000  \n",
       "75%         1.000000  \n",
       "max         1.000000  "
      ]
     },
     "execution_count": 6,
     "metadata": {},
     "output_type": "execute_result"
    }
   ],
   "source": [
    "df.describe(include='all')"
   ]
  },
  {
   "cell_type": "markdown",
   "id": "de293561",
   "metadata": {
    "papermill": {
     "duration": 0.015021,
     "end_time": "2024-09-01T20:21:49.465672",
     "exception": false,
     "start_time": "2024-09-01T20:21:49.450651",
     "status": "completed"
    },
    "tags": []
   },
   "source": [
    "### **Univariate Analysis**"
   ]
  },
  {
   "cell_type": "markdown",
   "id": "afc14f87",
   "metadata": {
    "papermill": {
     "duration": 0.015263,
     "end_time": "2024-09-01T20:21:49.496769",
     "exception": false,
     "start_time": "2024-09-01T20:21:49.481506",
     "status": "completed"
    },
    "tags": []
   },
   "source": [
    "**Age**"
   ]
  },
  {
   "cell_type": "code",
   "execution_count": 7,
   "id": "8d02c039",
   "metadata": {
    "execution": {
     "iopub.execute_input": "2024-09-01T20:21:49.530988Z",
     "iopub.status.busy": "2024-09-01T20:21:49.530528Z",
     "iopub.status.idle": "2024-09-01T20:21:49.542661Z",
     "shell.execute_reply": "2024-09-01T20:21:49.541544Z"
    },
    "papermill": {
     "duration": 0.031534,
     "end_time": "2024-09-01T20:21:49.545251",
     "exception": false,
     "start_time": "2024-09-01T20:21:49.513717",
     "status": "completed"
    },
    "tags": []
   },
   "outputs": [
    {
     "data": {
      "text/plain": [
       "count    918.000000\n",
       "mean      53.510893\n",
       "std        9.432617\n",
       "min       28.000000\n",
       "25%       47.000000\n",
       "50%       54.000000\n",
       "75%       60.000000\n",
       "max       77.000000\n",
       "Name: Age, dtype: float64"
      ]
     },
     "execution_count": 7,
     "metadata": {},
     "output_type": "execute_result"
    }
   ],
   "source": [
    "df.Age.describe()"
   ]
  },
  {
   "cell_type": "markdown",
   "id": "42f3b22d",
   "metadata": {
    "papermill": {
     "duration": 0.016319,
     "end_time": "2024-09-01T20:21:49.577105",
     "exception": false,
     "start_time": "2024-09-01T20:21:49.560786",
     "status": "completed"
    },
    "tags": []
   },
   "source": [
    "**Sex**"
   ]
  },
  {
   "cell_type": "code",
   "execution_count": 8,
   "id": "b128b3e1",
   "metadata": {
    "execution": {
     "iopub.execute_input": "2024-09-01T20:21:49.611095Z",
     "iopub.status.busy": "2024-09-01T20:21:49.610633Z",
     "iopub.status.idle": "2024-09-01T20:21:49.620797Z",
     "shell.execute_reply": "2024-09-01T20:21:49.619398Z"
    },
    "papermill": {
     "duration": 0.030507,
     "end_time": "2024-09-01T20:21:49.624056",
     "exception": false,
     "start_time": "2024-09-01T20:21:49.593549",
     "status": "completed"
    },
    "tags": []
   },
   "outputs": [
    {
     "data": {
      "text/plain": [
       "Sex\n",
       "M    725\n",
       "F    193\n",
       "Name: count, dtype: int64"
      ]
     },
     "execution_count": 8,
     "metadata": {},
     "output_type": "execute_result"
    }
   ],
   "source": [
    "df.Sex.value_counts()"
   ]
  },
  {
   "cell_type": "markdown",
   "id": "c9a98539",
   "metadata": {
    "papermill": {
     "duration": 0.016247,
     "end_time": "2024-09-01T20:21:49.657379",
     "exception": false,
     "start_time": "2024-09-01T20:21:49.641132",
     "status": "completed"
    },
    "tags": []
   },
   "source": [
    "**RestingBP**"
   ]
  },
  {
   "cell_type": "code",
   "execution_count": 9,
   "id": "5cd07e06",
   "metadata": {
    "execution": {
     "iopub.execute_input": "2024-09-01T20:21:49.692355Z",
     "iopub.status.busy": "2024-09-01T20:21:49.691894Z",
     "iopub.status.idle": "2024-09-01T20:21:49.703193Z",
     "shell.execute_reply": "2024-09-01T20:21:49.702116Z"
    },
    "papermill": {
     "duration": 0.030988,
     "end_time": "2024-09-01T20:21:49.705906",
     "exception": false,
     "start_time": "2024-09-01T20:21:49.674918",
     "status": "completed"
    },
    "tags": []
   },
   "outputs": [
    {
     "data": {
      "text/plain": [
       "count    918.000000\n",
       "mean     132.396514\n",
       "std       18.514154\n",
       "min        0.000000\n",
       "25%      120.000000\n",
       "50%      130.000000\n",
       "75%      140.000000\n",
       "max      200.000000\n",
       "Name: RestingBP, dtype: float64"
      ]
     },
     "execution_count": 9,
     "metadata": {},
     "output_type": "execute_result"
    }
   ],
   "source": [
    "df.RestingBP.describe()"
   ]
  },
  {
   "cell_type": "markdown",
   "id": "2264665f",
   "metadata": {
    "papermill": {
     "duration": 0.015619,
     "end_time": "2024-09-01T20:21:49.737454",
     "exception": false,
     "start_time": "2024-09-01T20:21:49.721835",
     "status": "completed"
    },
    "tags": []
   },
   "source": [
    "**Find the RestingBP = 0 that is mining This person is dead and drop it**"
   ]
  },
  {
   "cell_type": "code",
   "execution_count": 10,
   "id": "5063e7d6",
   "metadata": {
    "execution": {
     "iopub.execute_input": "2024-09-01T20:21:49.771105Z",
     "iopub.status.busy": "2024-09-01T20:21:49.770629Z",
     "iopub.status.idle": "2024-09-01T20:21:49.779933Z",
     "shell.execute_reply": "2024-09-01T20:21:49.778833Z"
    },
    "papermill": {
     "duration": 0.02929,
     "end_time": "2024-09-01T20:21:49.782536",
     "exception": false,
     "start_time": "2024-09-01T20:21:49.753246",
     "status": "completed"
    },
    "tags": []
   },
   "outputs": [],
   "source": [
    "df.drop(index=df[df.RestingBP==0].index,inplace=True)"
   ]
  },
  {
   "cell_type": "markdown",
   "id": "6039a03e",
   "metadata": {
    "papermill": {
     "duration": 0.015453,
     "end_time": "2024-09-01T20:21:49.813929",
     "exception": false,
     "start_time": "2024-09-01T20:21:49.798476",
     "status": "completed"
    },
    "tags": []
   },
   "source": [
    "**Cholesterol**\n",
    "\n",
    "- Cholesterol is good less than 200\n",
    "- Cholesterol is BORDERLINE HIGH 200 --> 239\n",
    "- Cholesterol is HIGH 240 and higher"
   ]
  },
  {
   "cell_type": "code",
   "execution_count": 11,
   "id": "2fe4c80c",
   "metadata": {
    "execution": {
     "iopub.execute_input": "2024-09-01T20:21:49.847582Z",
     "iopub.status.busy": "2024-09-01T20:21:49.847128Z",
     "iopub.status.idle": "2024-09-01T20:21:49.859397Z",
     "shell.execute_reply": "2024-09-01T20:21:49.858141Z"
    },
    "papermill": {
     "duration": 0.032548,
     "end_time": "2024-09-01T20:21:49.862344",
     "exception": false,
     "start_time": "2024-09-01T20:21:49.829796",
     "status": "completed"
    },
    "tags": []
   },
   "outputs": [
    {
     "data": {
      "text/plain": [
       "count    917.000000\n",
       "mean     199.016358\n",
       "std      109.246330\n",
       "min        0.000000\n",
       "25%      174.000000\n",
       "50%      223.000000\n",
       "75%      267.000000\n",
       "max      603.000000\n",
       "Name: Cholesterol, dtype: float64"
      ]
     },
     "execution_count": 11,
     "metadata": {},
     "output_type": "execute_result"
    }
   ],
   "source": [
    "df.Cholesterol.describe()"
   ]
  },
  {
   "cell_type": "markdown",
   "id": "f7a22d14",
   "metadata": {
    "papermill": {
     "duration": 0.017494,
     "end_time": "2024-09-01T20:21:49.897632",
     "exception": false,
     "start_time": "2024-09-01T20:21:49.880138",
     "status": "completed"
    },
    "tags": []
   },
   "source": [
    "**Find the Cholesterol = 0 and drop it**"
   ]
  },
  {
   "cell_type": "code",
   "execution_count": 12,
   "id": "043786d1",
   "metadata": {
    "execution": {
     "iopub.execute_input": "2024-09-01T20:21:49.933056Z",
     "iopub.status.busy": "2024-09-01T20:21:49.932632Z",
     "iopub.status.idle": "2024-09-01T20:21:49.941955Z",
     "shell.execute_reply": "2024-09-01T20:21:49.940698Z"
    },
    "papermill": {
     "duration": 0.03077,
     "end_time": "2024-09-01T20:21:49.944750",
     "exception": false,
     "start_time": "2024-09-01T20:21:49.913980",
     "status": "completed"
    },
    "tags": []
   },
   "outputs": [],
   "source": [
    "df.drop(index=df[df.Cholesterol==0].index,inplace=True)"
   ]
  },
  {
   "cell_type": "markdown",
   "id": "b6cf457c",
   "metadata": {
    "papermill": {
     "duration": 0.015856,
     "end_time": "2024-09-01T20:21:49.976839",
     "exception": false,
     "start_time": "2024-09-01T20:21:49.960983",
     "status": "completed"
    },
    "tags": []
   },
   "source": [
    "**FastingBS**"
   ]
  },
  {
   "cell_type": "code",
   "execution_count": 13,
   "id": "db72fbea",
   "metadata": {
    "execution": {
     "iopub.execute_input": "2024-09-01T20:21:50.011533Z",
     "iopub.status.busy": "2024-09-01T20:21:50.011091Z",
     "iopub.status.idle": "2024-09-01T20:21:50.021952Z",
     "shell.execute_reply": "2024-09-01T20:21:50.020751Z"
    },
    "papermill": {
     "duration": 0.03096,
     "end_time": "2024-09-01T20:21:50.024539",
     "exception": false,
     "start_time": "2024-09-01T20:21:49.993579",
     "status": "completed"
    },
    "tags": []
   },
   "outputs": [
    {
     "data": {
      "text/plain": [
       "FastingBS\n",
       "0    621\n",
       "1    125\n",
       "Name: count, dtype: int64"
      ]
     },
     "execution_count": 13,
     "metadata": {},
     "output_type": "execute_result"
    }
   ],
   "source": [
    "df.FastingBS.value_counts()"
   ]
  },
  {
   "cell_type": "markdown",
   "id": "68c43435",
   "metadata": {
    "papermill": {
     "duration": 0.015756,
     "end_time": "2024-09-01T20:21:50.056565",
     "exception": false,
     "start_time": "2024-09-01T20:21:50.040809",
     "status": "completed"
    },
    "tags": []
   },
   "source": [
    "**What is the effect of fasting blood sugar on disease ?**"
   ]
  },
  {
   "cell_type": "code",
   "execution_count": 14,
   "id": "fada967b",
   "metadata": {
    "execution": {
     "iopub.execute_input": "2024-09-01T20:21:50.090384Z",
     "iopub.status.busy": "2024-09-01T20:21:50.089930Z",
     "iopub.status.idle": "2024-09-01T20:21:50.101778Z",
     "shell.execute_reply": "2024-09-01T20:21:50.100611Z"
    },
    "papermill": {
     "duration": 0.031723,
     "end_time": "2024-09-01T20:21:50.104291",
     "exception": false,
     "start_time": "2024-09-01T20:21:50.072568",
     "status": "completed"
    },
    "tags": []
   },
   "outputs": [
    {
     "data": {
      "text/plain": [
       "FastingBS  HeartDisease\n",
       "0          0               347\n",
       "           1               274\n",
       "1          0                43\n",
       "           1                82\n",
       "Name: HeartDisease, dtype: int64"
      ]
     },
     "execution_count": 14,
     "metadata": {},
     "output_type": "execute_result"
    }
   ],
   "source": [
    "df.groupby(['FastingBS','HeartDisease'])['HeartDisease'].count()"
   ]
  },
  {
   "cell_type": "markdown",
   "id": "a9384c68",
   "metadata": {
    "papermill": {
     "duration": 0.016231,
     "end_time": "2024-09-01T20:21:50.136782",
     "exception": false,
     "start_time": "2024-09-01T20:21:50.120551",
     "status": "completed"
    },
    "tags": []
   },
   "source": [
    "**<p style=\"color:red\">Observations 📋</p>**\n",
    "\n",
    "- **For Fasting blood sugar :-**\n",
    "\n",
    "   - **Most** people  in the data **fastingBS < 120 mg/dl**,\n",
    "   - **Few** people in the data **fastingBS > 120 mg/dl**\n",
    "   \n",
    "   \n",
    "--------------------------------------------------------------------------------    "
   ]
  },
  {
   "cell_type": "markdown",
   "id": "0a69d82b",
   "metadata": {
    "papermill": {
     "duration": 0.015996,
     "end_time": "2024-09-01T20:21:50.169004",
     "exception": false,
     "start_time": "2024-09-01T20:21:50.153008",
     "status": "completed"
    },
    "tags": []
   },
   "source": [
    "**What is the number of sick and healthy people in both sexes?**"
   ]
  },
  {
   "cell_type": "code",
   "execution_count": 15,
   "id": "834ae6dd",
   "metadata": {
    "execution": {
     "iopub.execute_input": "2024-09-01T20:21:50.204812Z",
     "iopub.status.busy": "2024-09-01T20:21:50.204338Z",
     "iopub.status.idle": "2024-09-01T20:21:50.222754Z",
     "shell.execute_reply": "2024-09-01T20:21:50.221439Z"
    },
    "papermill": {
     "duration": 0.039988,
     "end_time": "2024-09-01T20:21:50.225535",
     "exception": false,
     "start_time": "2024-09-01T20:21:50.185547",
     "status": "completed"
    },
    "tags": []
   },
   "outputs": [
    {
     "data": {
      "text/plain": [
       "Sex  HeartDisease\n",
       "F    0               142\n",
       "     1                40\n",
       "M    1               316\n",
       "     0               248\n",
       "Name: count, dtype: int64"
      ]
     },
     "execution_count": 15,
     "metadata": {},
     "output_type": "execute_result"
    }
   ],
   "source": [
    "df.groupby(\"Sex\")[\"HeartDisease\"].value_counts()"
   ]
  },
  {
   "cell_type": "markdown",
   "id": "0b2a3bc5",
   "metadata": {
    "papermill": {
     "duration": 0.016346,
     "end_time": "2024-09-01T20:21:50.258574",
     "exception": false,
     "start_time": "2024-09-01T20:21:50.242228",
     "status": "completed"
    },
    "tags": []
   },
   "source": [
    "**<p style=\"color:red\">Observations 📋</p>**\n",
    "\n",
    "- Most of the patients in the data are **males**\n",
    "\n",
    "- The number of **healthy women** is more than **patients** in the data\n",
    "\n",
    "--------------------------------------------------------------------------------"
   ]
  },
  {
   "cell_type": "markdown",
   "id": "9460bfb2",
   "metadata": {
    "papermill": {
     "duration": 0.016314,
     "end_time": "2024-09-01T20:21:50.291590",
     "exception": false,
     "start_time": "2024-09-01T20:21:50.275276",
     "status": "completed"
    },
    "tags": []
   },
   "source": [
    "**What is the most common type of chest pain that affects the disease ?**\n"
   ]
  },
  {
   "cell_type": "code",
   "execution_count": 16,
   "id": "8e22ce9d",
   "metadata": {
    "execution": {
     "iopub.execute_input": "2024-09-01T20:21:50.385341Z",
     "iopub.status.busy": "2024-09-01T20:21:50.384887Z",
     "iopub.status.idle": "2024-09-01T20:21:50.395477Z",
     "shell.execute_reply": "2024-09-01T20:21:50.394374Z"
    },
    "papermill": {
     "duration": 0.090004,
     "end_time": "2024-09-01T20:21:50.398099",
     "exception": false,
     "start_time": "2024-09-01T20:21:50.308095",
     "status": "completed"
    },
    "tags": []
   },
   "outputs": [
    {
     "data": {
      "text/plain": [
       "ChestPainType\n",
       "ASY    274\n",
       "NAP     46\n",
       "ATA     21\n",
       "TA      15\n",
       "Name: count, dtype: int64"
      ]
     },
     "execution_count": 16,
     "metadata": {},
     "output_type": "execute_result"
    }
   ],
   "source": [
    "df[df.HeartDisease==1]['ChestPainType'].value_counts()"
   ]
  },
  {
   "cell_type": "markdown",
   "id": "b3f7ff1f",
   "metadata": {
    "papermill": {
     "duration": 0.016567,
     "end_time": "2024-09-01T20:21:50.431538",
     "exception": false,
     "start_time": "2024-09-01T20:21:50.414971",
     "status": "completed"
    },
    "tags": []
   },
   "source": [
    "**<p style=\"color:red\">Observations 📋</p>**\n",
    "\n",
    "- **order of the type of chest pain on the disease :-**\n",
    " \n",
    "   1- **ASY**\n",
    "   \n",
    "   2- **NAP**\n",
    "   \n",
    "   3- **ATA**\n",
    "   \n",
    "   4- **TA**\n",
    "   \n",
    "--------------------------------------------------------------------------------   "
   ]
  },
  {
   "cell_type": "code",
   "execution_count": 17,
   "id": "9681a310",
   "metadata": {
    "execution": {
     "iopub.execute_input": "2024-09-01T20:21:50.468642Z",
     "iopub.status.busy": "2024-09-01T20:21:50.468117Z",
     "iopub.status.idle": "2024-09-01T20:21:50.484568Z",
     "shell.execute_reply": "2024-09-01T20:21:50.483391Z"
    },
    "papermill": {
     "duration": 0.038265,
     "end_time": "2024-09-01T20:21:50.487268",
     "exception": false,
     "start_time": "2024-09-01T20:21:50.449003",
     "status": "completed"
    },
    "tags": []
   },
   "outputs": [
    {
     "data": {
      "text/plain": [
       "Sex  ChestPainType\n",
       "F    ASY              0.340659\n",
       "     ATA              0.324176\n",
       "     NAP              0.285714\n",
       "     TA               0.049451\n",
       "M    ASY              0.546099\n",
       "     NAP              0.207447\n",
       "     ATA              0.189716\n",
       "     TA               0.056738\n",
       "Name: proportion, dtype: float64"
      ]
     },
     "execution_count": 17,
     "metadata": {},
     "output_type": "execute_result"
    }
   ],
   "source": [
    "df.groupby(['Sex'])['ChestPainType'].value_counts(normalize=True)"
   ]
  },
  {
   "cell_type": "markdown",
   "id": "5b0856e5",
   "metadata": {
    "papermill": {
     "duration": 0.017257,
     "end_time": "2024-09-01T20:21:50.521513",
     "exception": false,
     "start_time": "2024-09-01T20:21:50.504256",
     "status": "completed"
    },
    "tags": []
   },
   "source": [
    "**What is the effect of Exercise Angina on disease ?**"
   ]
  },
  {
   "cell_type": "code",
   "execution_count": 18,
   "id": "b24d1b4c",
   "metadata": {
    "execution": {
     "iopub.execute_input": "2024-09-01T20:21:50.557469Z",
     "iopub.status.busy": "2024-09-01T20:21:50.557014Z",
     "iopub.status.idle": "2024-09-01T20:21:50.570509Z",
     "shell.execute_reply": "2024-09-01T20:21:50.569373Z"
    },
    "papermill": {
     "duration": 0.035066,
     "end_time": "2024-09-01T20:21:50.573282",
     "exception": false,
     "start_time": "2024-09-01T20:21:50.538216",
     "status": "completed"
    },
    "tags": []
   },
   "outputs": [
    {
     "data": {
      "text/plain": [
       "ExerciseAngina  HeartDisease\n",
       "N               0               340\n",
       "                1               119\n",
       "Y               0                50\n",
       "                1               237\n",
       "Name: HeartDisease, dtype: int64"
      ]
     },
     "execution_count": 18,
     "metadata": {},
     "output_type": "execute_result"
    }
   ],
   "source": [
    "df.groupby(['ExerciseAngina','HeartDisease'])['HeartDisease'].count()"
   ]
  },
  {
   "cell_type": "markdown",
   "id": "621dc5eb",
   "metadata": {
    "papermill": {
     "duration": 0.018302,
     "end_time": "2024-09-01T20:21:50.608646",
     "exception": false,
     "start_time": "2024-09-01T20:21:50.590344",
     "status": "completed"
    },
    "tags": []
   },
   "source": [
    "**<p style=\"color:red\">Observations 📋</p>**\n",
    "\n",
    "- **No Exercise Angina :-**\n",
    "    \n",
    "   - The number of **healthy** people is **more** than the number of **patients**\n",
    "    \n",
    "- **Yes Exercise Angina :-**\n",
    "    \n",
    "   - The number of **patients** is **more** than the number of **healthy** people \n",
    "   \n",
    "    \n",
    "\n",
    "--------------------------------------------------------------------------------"
   ]
  },
  {
   "cell_type": "markdown",
   "id": "13cbb58a",
   "metadata": {
    "papermill": {
     "duration": 0.016994,
     "end_time": "2024-09-01T20:21:50.642912",
     "exception": false,
     "start_time": "2024-09-01T20:21:50.625918",
     "status": "completed"
    },
    "tags": []
   },
   "source": [
    "**What is  effect of the the slope of the peak exercise on the disease**\n"
   ]
  },
  {
   "cell_type": "code",
   "execution_count": 19,
   "id": "d7d0508a",
   "metadata": {
    "execution": {
     "iopub.execute_input": "2024-09-01T20:21:50.680624Z",
     "iopub.status.busy": "2024-09-01T20:21:50.680160Z",
     "iopub.status.idle": "2024-09-01T20:21:50.690915Z",
     "shell.execute_reply": "2024-09-01T20:21:50.689755Z"
    },
    "papermill": {
     "duration": 0.03346,
     "end_time": "2024-09-01T20:21:50.693456",
     "exception": false,
     "start_time": "2024-09-01T20:21:50.659996",
     "status": "completed"
    },
    "tags": []
   },
   "outputs": [
    {
     "data": {
      "text/plain": [
       "ST_Slope\n",
       "Flat    279\n",
       "Up       45\n",
       "Down     32\n",
       "Name: count, dtype: int64"
      ]
     },
     "execution_count": 19,
     "metadata": {},
     "output_type": "execute_result"
    }
   ],
   "source": [
    "df[df.HeartDisease==1]['ST_Slope'].value_counts()"
   ]
  },
  {
   "cell_type": "markdown",
   "id": "4a71603f",
   "metadata": {
    "papermill": {
     "duration": 0.017355,
     "end_time": "2024-09-01T20:21:50.728027",
     "exception": false,
     "start_time": "2024-09-01T20:21:50.710672",
     "status": "completed"
    },
    "tags": []
   },
   "source": [
    "**<p style=\"color:red\">Observations 📋</p>**\n",
    "\n",
    "- **order of the slope of the peak exercise on the disease :-**\n",
    "\n",
    "  1- **Flat**\n",
    "    \n",
    "  2- **Up**\n",
    "    \n",
    "  3- **Down**\n",
    "   \n",
    "   \n",
    "--------------------------------------------------------------------------------    "
   ]
  },
  {
   "cell_type": "markdown",
   "id": "b1248a52",
   "metadata": {
    "papermill": {
     "duration": 0.016956,
     "end_time": "2024-09-01T20:21:50.762243",
     "exception": false,
     "start_time": "2024-09-01T20:21:50.745287",
     "status": "completed"
    },
    "tags": []
   },
   "source": [
    "## Data preprocessing\n",
    "\n",
    "\n",
    "\n",
    "\n",
    "\n"
   ]
  },
  {
   "cell_type": "markdown",
   "id": "2fccae3c",
   "metadata": {
    "papermill": {
     "duration": 0.017009,
     "end_time": "2024-09-01T20:21:50.796616",
     "exception": false,
     "start_time": "2024-09-01T20:21:50.779607",
     "status": "completed"
    },
    "tags": []
   },
   "source": [
    "**Data preprocessing** refers to the technique of preparing (cleaning and organizing) the raw data to make it suitable for a building and training Machine Learning models."
   ]
  },
  {
   "cell_type": "markdown",
   "id": "d945b18c",
   "metadata": {
    "papermill": {
     "duration": 0.017306,
     "end_time": "2024-09-01T20:21:50.831141",
     "exception": false,
     "start_time": "2024-09-01T20:21:50.813835",
     "status": "completed"
    },
    "tags": []
   },
   "source": [
    "**1 : Finding and cleaning null values**"
   ]
  },
  {
   "cell_type": "code",
   "execution_count": 20,
   "id": "bc7c1755",
   "metadata": {
    "execution": {
     "iopub.execute_input": "2024-09-01T20:21:50.867806Z",
     "iopub.status.busy": "2024-09-01T20:21:50.867342Z",
     "iopub.status.idle": "2024-09-01T20:21:50.878596Z",
     "shell.execute_reply": "2024-09-01T20:21:50.877390Z"
    },
    "papermill": {
     "duration": 0.032637,
     "end_time": "2024-09-01T20:21:50.881150",
     "exception": false,
     "start_time": "2024-09-01T20:21:50.848513",
     "status": "completed"
    },
    "tags": []
   },
   "outputs": [
    {
     "data": {
      "text/plain": [
       "Age               0\n",
       "Sex               0\n",
       "ChestPainType     0\n",
       "RestingBP         0\n",
       "Cholesterol       0\n",
       "FastingBS         0\n",
       "RestingECG        0\n",
       "MaxHR             0\n",
       "ExerciseAngina    0\n",
       "Oldpeak           0\n",
       "ST_Slope          0\n",
       "HeartDisease      0\n",
       "dtype: int64"
      ]
     },
     "execution_count": 20,
     "metadata": {},
     "output_type": "execute_result"
    }
   ],
   "source": [
    "df.isnull().sum()"
   ]
  },
  {
   "cell_type": "markdown",
   "id": "c462b8e3",
   "metadata": {
    "papermill": {
     "duration": 0.017578,
     "end_time": "2024-09-01T20:21:50.916658",
     "exception": false,
     "start_time": "2024-09-01T20:21:50.899080",
     "status": "completed"
    },
    "tags": []
   },
   "source": [
    "**<p style=\"color:red\">Observations 📋</p>**\n",
    "\n",
    "There is no null values \n",
    "\n",
    "--------------------------------------------------------------------------------    \n"
   ]
  },
  {
   "cell_type": "markdown",
   "id": "8b1f3b7c",
   "metadata": {
    "papermill": {
     "duration": 0.018019,
     "end_time": "2024-09-01T20:21:50.951881",
     "exception": false,
     "start_time": "2024-09-01T20:21:50.933862",
     "status": "completed"
    },
    "tags": []
   },
   "source": [
    "**2 : Delete duplicate data**"
   ]
  },
  {
   "cell_type": "code",
   "execution_count": 21,
   "id": "aaa954d4",
   "metadata": {
    "execution": {
     "iopub.execute_input": "2024-09-01T20:21:50.989039Z",
     "iopub.status.busy": "2024-09-01T20:21:50.988589Z",
     "iopub.status.idle": "2024-09-01T20:21:50.997944Z",
     "shell.execute_reply": "2024-09-01T20:21:50.996604Z"
    },
    "papermill": {
     "duration": 0.031116,
     "end_time": "2024-09-01T20:21:51.000630",
     "exception": false,
     "start_time": "2024-09-01T20:21:50.969514",
     "status": "completed"
    },
    "tags": []
   },
   "outputs": [],
   "source": [
    "df.drop_duplicates(inplace=True)"
   ]
  },
  {
   "cell_type": "code",
   "execution_count": 22,
   "id": "a742a7c7",
   "metadata": {
    "execution": {
     "iopub.execute_input": "2024-09-01T20:21:51.037425Z",
     "iopub.status.busy": "2024-09-01T20:21:51.036987Z",
     "iopub.status.idle": "2024-09-01T20:21:51.044993Z",
     "shell.execute_reply": "2024-09-01T20:21:51.043699Z"
    },
    "papermill": {
     "duration": 0.030584,
     "end_time": "2024-09-01T20:21:51.048532",
     "exception": false,
     "start_time": "2024-09-01T20:21:51.017948",
     "status": "completed"
    },
    "tags": []
   },
   "outputs": [
    {
     "data": {
      "text/plain": [
       "(746, 12)"
      ]
     },
     "execution_count": 22,
     "metadata": {},
     "output_type": "execute_result"
    }
   ],
   "source": [
    "df.shape"
   ]
  },
  {
   "cell_type": "markdown",
   "id": "b24453cc",
   "metadata": {
    "papermill": {
     "duration": 0.025917,
     "end_time": "2024-09-01T20:21:51.098093",
     "exception": false,
     "start_time": "2024-09-01T20:21:51.072176",
     "status": "completed"
    },
    "tags": []
   },
   "source": [
    "**<p style=\"color:red\">Observations 📋</p>**\n",
    "\n",
    "**There is no duplicate data because there is the same number of original data**\n",
    "\n",
    "------------------------------"
   ]
  },
  {
   "cell_type": "code",
   "execution_count": null,
   "id": "3e380171",
   "metadata": {
    "papermill": {
     "duration": 0.017902,
     "end_time": "2024-09-01T20:21:51.138580",
     "exception": false,
     "start_time": "2024-09-01T20:21:51.120678",
     "status": "completed"
    },
    "tags": []
   },
   "outputs": [],
   "source": []
  }
 ],
 "metadata": {
  "kaggle": {
   "accelerator": "none",
   "dataSources": [
    {
     "datasetId": 1582403,
     "sourceId": 2603715,
     "sourceType": "datasetVersion"
    }
   ],
   "dockerImageVersionId": 30761,
   "isGpuEnabled": false,
   "isInternetEnabled": true,
   "language": "python",
   "sourceType": "notebook"
  },
  "kernelspec": {
   "display_name": "Python 3",
   "language": "python",
   "name": "python3"
  },
  "language_info": {
   "codemirror_mode": {
    "name": "ipython",
    "version": 3
   },
   "file_extension": ".py",
   "mimetype": "text/x-python",
   "name": "python",
   "nbconvert_exporter": "python",
   "pygments_lexer": "ipython3",
   "version": "3.12.2"
  },
  "papermill": {
   "default_parameters": {},
   "duration": 6.427787,
   "end_time": "2024-09-01T20:21:51.780149",
   "environment_variables": {},
   "exception": null,
   "input_path": "__notebook__.ipynb",
   "output_path": "__notebook__.ipynb",
   "parameters": {},
   "start_time": "2024-09-01T20:21:45.352362",
   "version": "2.6.0"
  }
 },
 "nbformat": 4,
 "nbformat_minor": 5
}
